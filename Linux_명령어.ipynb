{
  "nbformat": 4,
  "nbformat_minor": 0,
  "metadata": {
    "colab": {
      "provenance": [],
      "collapsed_sections": [],
      "authorship_tag": "ABX9TyO1gW4GW+ob4fbnnCwu94Gd",
      "include_colab_link": true
    },
    "kernelspec": {
      "name": "python3",
      "display_name": "Python 3"
    },
    "language_info": {
      "name": "python"
    }
  },
  "cells": [
    {
      "cell_type": "markdown",
      "metadata": {
        "id": "view-in-github",
        "colab_type": "text"
      },
      "source": [
        "<a href=\"https://colab.research.google.com/github/gsangf10/Linux/blob/main/Linux_%EB%AA%85%EB%A0%B9%EC%96%B4.ipynb\" target=\"_parent\"><img src=\"https://colab.research.google.com/assets/colab-badge.svg\" alt=\"Open In Colab\"/></a>"
      ]
    },
    {
      "cell_type": "markdown",
      "source": [
        "# 주요 명령어\n",
        "- man : 메뉴얼 확인 (manual)\n",
        "- --help : 도움말\n",
        "- sudo 명령어 : 해당 명령어를 root 계정으로 실행\n",
        "- ls : 현재 디렉토리의 파일 목록 보기 (list)\n",
        "- cd : 디렉토리 이동\n",
        "- clear : 현재 쉘 청소\n",
        "- touch : 파일 생성\n",
        "- history : 실행한 명령어 목록 보기 (!번호 입력 시 해당 명령어 재 실행)\n",
        "- rm : 파일 삭제 (remove)\n",
        "- mkdir : 디렉토리 생성 (make diractory)\n",
        "- rmdir : 디렉토리 삭제 (remove diractory)\n",
        "- pwd : 현재 경로 보기\n",
        "- echo : 문자열 출력\n",
        "- cat : 문서의 내용 출력\n",
        "- grep \"aa\" 파일명 : 파일에서 aa인 행만 찾아서 출력\n",
        "- mv : 파일 이동\n",
        "- cp : 파일 복사\n",
        "- vi : 파일 편집기\n",
        "- vim : 파일 편집기\n",
        "- less : 출력결과 스크롤링\n",
        "- 명령1 | 명령2 : 명령1 결과를 명령2 입력으로 처리\n",
        "- ps : 현재 실행중인 프로세스 출력\n",
        "- kill : 실행중인 프로세스 죽이기\n",
        "- chown : 파일/폴더 소유권 변경"
      ],
      "metadata": {
        "id": "ho5o_NkCr9Zh"
      }
    },
    {
      "cell_type": "markdown",
      "source": [
        "# ls 속성\n",
        "- -l : 파일의 모든 정보 보기\n",
        "- -a : 숨김파일 포함하여 보기\n",
        "- -al : 숨김파일을 포함하여 모든 정보 보기\n"
      ],
      "metadata": {
        "id": "6nPG8bKBt9cb"
      }
    },
    {
      "cell_type": "markdown",
      "source": [
        "# mkdir 속성\n",
        "- -p : 하위 디렉토리를 여러개 생성\n"
      ],
      "metadata": {
        "id": "zfgBeDBIHSZk"
      }
    },
    {
      "cell_type": "markdown",
      "source": [
        "# rm 속성\n",
        "- -r : 비어있지 않은 디렉토리 삭제\n",
        "- -rf : 비어있지 않은 디렉토리 강제로 삭제 (*주의 요망)\n",
        "- * : 해당 폴더의 모든 파일 삭제. 단, 숨김 파일은 삭제되지 않음"
      ],
      "metadata": {
        "id": "W5nJhOv1Hczu"
      }
    },
    {
      "cell_type": "markdown",
      "source": [
        "# mv 명령어\n",
        "- mv a.txt bbb : a.txt 파일을 bbb 폴더로 이동\n",
        "- mv a.txt b.txt : a.txt 파일명을 b.txt 파일명으로 변경"
      ],
      "metadata": {
        "id": "FP0q3lW9-0ap"
      }
    },
    {
      "cell_type": "markdown",
      "source": [
        "# cp 명령어\n",
        "- cp a.txt bbb : a.txt 파일을 bbb 폴더로 복사\n",
        "- cp a.txt b.txt : a.txt 파일을 b.txt 파일로 복사"
      ],
      "metadata": {
        "id": "p3VPif0V_GuX"
      }
    },
    {
      "cell_type": "markdown",
      "source": [
        "# echo 속성\n",
        "- echo 문자열 > 파일명 : 해당 파일명으로 문자열을 저장\n",
        "- echo -e \"hello\\nworld\" : 문자열 내 \\n이 줄바꿈 문자로 처리됨\n",
        "- echo -n \"hello\" : 문자열 뒤에 \\n이 붙지 않음 (자동 줄바꿈 하지 않음)"
      ],
      "metadata": {
        "id": "7ZBUpfAUupyf"
      }
    },
    {
      "cell_type": "markdown",
      "source": [
        "# cat 여러 파일 읽기\n",
        "- cat a b c d\n",
        "-- a,b,c,d의 출력 내용은 result.txt에 저장\n",
        "-- c 파일이 없는 경우 -> a,b,d의 출력 내용은 result.txt에 저장되고, c가 없어서 나는 에러 메시지는 error.txt에 저장"
      ],
      "metadata": {
        "id": "YfXpfcsuvLxw"
      }
    },
    {
      "cell_type": "markdown",
      "source": [
        "# vi / vim 속성\n",
        "- i : 명령모드에서 입력모드로 전환\n",
        "- esc : 입력모드에서 명령모드로 전환\n",
        "- 에디터 종료 방법\n",
        "-- :q! : 변경사항을 저장하지 않고 종료\n",
        "-- :wq : 변경사항을 저장하고 종료\n",
        "- 명령모드 단축키\n",
        "-- h,j,k,l : 상하좌우 커서 이동\n",
        "-- yy : 한줄 복사\n",
        "-- dd : 한줄 삭제\n",
        "-- p : 붙여넣기\n",
        "-- v : 비주얼모드 전환. 비주얼 모드는 커서를 이용해 드래그 할 수 있는 모드 ( 특정 영역을 선택할 때 쓰임 )\n",
        "-- u : 이전 작업으로 되돌리기 ( undo )\n",
        "-- ctrl + r : 다음 작업으로 되돌리기 ( redo )\n",
        "-- w, b : 커서가 단어 단위로 이동 ( w는 ->, b는 <- 방향으로 이동 )"
      ],
      "metadata": {
        "id": "0Asa6e7dwy8m"
      }
    },
    {
      "cell_type": "markdown",
      "source": [
        "# 네트워크 관련 명령어 (centos7 기준)\n",
        "- ifup enp0s3 : 네트워크 활성화\n",
        "- 서버 부팅 시 자동으로 네트워크 활성화 하는 법 (LAN카드 활성화)\n",
        "-- /etc/sysconfig/network-scripts/ifcfg-enp0s3 파일\n",
        "-- ONBOOT=NO 를 ONBOOT=yes로 수정\n"
      ],
      "metadata": {
        "id": "e-Lq1tjFshFD"
      }
    },
    {
      "cell_type": "markdown",
      "source": [
        "# 고정 ip 등록\n",
        "- 1단계 : ip addr 명령을 통해서 IP와 서브넷마스크 확인\n",
        "-- 서브넷마스크\n",
        "-- - ~~/24 => 255.255.255.0\n",
        "-- - ~~/8 => 255.0.0.0\n",
        "\n",
        "- 2단계 : ip route 명령을 통해서 게이트웨이 IP 확인\n",
        "\n",
        "- 3단계 : 설정파일 수정, vi /etc/sysconfig/network-scripts/ifcfg-enp0s3\n",
        "-- BOOTPROTO=static # dhcp 에서 static 으로 수정\n",
        "-- IPADDR=10.0.2.16 # 제한적으로 변경가능, 파일의 최하단 부분에 추가\n",
        "-- GATEWAY=10.0.2.2 # 정해짐, 파일의 최하단 부분에 추가\n",
        "-- NETMASK=255.255.255.0 # 정해짐, 파일의 최하단 부분에 추가\n",
        "-- DNS1=8.8.8.8 # 제한적으로 변경가능, 파일의 최하단 부분에 추가\n",
        "-- DNS2=8.8.4.4 # 제한적으로 변경가능, 파일의 최하단 부분에 추가\n",
        "-- ESC키, :wq! 엔터키\n",
        "\n",
        "- 4단계 : 네트워크 설정 변경 후 적용\n",
        "-- sudo systemctl restart network 명령 수행"
      ],
      "metadata": {
        "id": "MPVVLa4C8WW8"
      }
    },
    {
      "cell_type": "markdown",
      "source": [
        "# Pakage Install 명령어\n",
        "- yum : 원격 저장소에서 다운로드 받는 방식이기 때문에 네트워크가 활성화 되어 있어야 한다.\n",
        "-- 예) yum install 패키지명 : 해당 패키지 다운로드"
      ],
      "metadata": {
        "id": "v0EA_h9pr76d"
      }
    },
    {
      "cell_type": "markdown",
      "source": [
        "# mlocate를 이용해 원하는 파일 찾기\n",
        "- updatedb : mlocate 설치후 한번 실행해줘야 하는 명령어. mlocate 프로그램에게 시스템의 정보를 알려준다\n",
        "- locate : locate enp0s3 명령을 치면 파일명에 enp0s3에 포함된 파일의 목록이 풀경로로 검색"
      ],
      "metadata": {
        "id": "bWYNnmu-qmgd"
      }
    },
    {
      "cell_type": "markdown",
      "source": [
        "# systemctl\n",
        "- systemctl status : 시스템 정보\n",
        "- systemctl status network : 네트워크 정보\n",
        "- systemctl restart network : 네트워크 재시작\n",
        "- systemctl stop network : 네트워크 비활성화 (사용 비추)\n",
        "- systemctl start network : 네트워크 활성화"
      ],
      "metadata": {
        "id": "dp8mJItB47IZ"
      }
    },
    {
      "cell_type": "markdown",
      "source": [
        "# 계정 관련 명령어\n",
        "- cat /etc/passwd : 계정 목록 확인\n",
        "- grep /bin/bash /etc/passwd : USERADD 를 통해 등록된 계정만 보기\n",
        "- sudo 명령어 : 해당 명령어를 root 계정으로 실행\n",
        "-- sudo 명령어는 아무나 쓸수 있는게 아니고 /ect/sudoers 파일에 등록되어 있거나, wheel 이라는 그룹에 소속된 유저만 사용 가능\n",
        "- id 유저명 : 유저의 id, gid, group 정보 확인\n",
        "- useradd 유저명 : 유저 생성\n",
        "- userdel 유저명 : 유저 삭제\n",
        "-- userdel -r 유저명 : home 디렉토리에 해당 유저 폴더까지 삭제\n",
        "- passwd 유저명 : 유저 비밀번호 설정/재설정\n",
        "- su : root 유저로 전환(root 비밀번호 입력해야 함)\n",
        "- su user1: user1로 전환(user1 비밀번호 입력해야 함)\n",
        "- exit : 현재 로그인된 계정 종료\n",
        "- whoami : 난 누구? (현재 로그인한 유저명 보여줌)\n",
        "- pwd : 여긴 어디? (현재 경로 보여줌)"
      ],
      "metadata": {
        "id": "7TiEymvHrMES"
      }
    },
    {
      "cell_type": "markdown",
      "source": [
        "# 계정 그룹 관련 명령어\n",
        "- useradd -G 그룹명 유저명 : 새로 추가하는 유저를 해당 그룹에 포함시킨다.\n",
        "- usermod -aG 그룹명 유저명 : 기존에 있던 유저를 해당 그룹에 포함시킨다."
      ],
      "metadata": {
        "id": "rMlLDUmD0qUd"
      }
    },
    {
      "cell_type": "markdown",
      "source": [
        "# 그룹 관련 명령어\n",
        "- cat /et/group : 그룹 목록 확인\n",
        "- groupadd 그룹명 : GID 가 500 이상인 그룹들 가운데 가장 낮은 GID 다음 번호로 그룹을 생성\n",
        "- groupadd -g 1000 그룹명 : GID 를 1000으로 설정하여 생성\n",
        "- groupadd -r 그룹명 : 0 번 부터 499 까지의 할당되어 있지 않은 GID 중 가장 높은 번호를 할당하여 생성\n",
        "- groupdel 그룹명 : 그룹 삭제\n",
        "## 그룹 관리 명령어\n",
        "-- gpasswd 그룹명 : 그룹 암호 설정\n",
        "-- gpasswd -a 유저명 그룹명 : 특정 그룹에 새로운 그룹멤버를 추가\n",
        "-- gpasswd -d 유저명 그룹명 : 특정 그룹에서 지정한 그룹멤버를 제거\n",
        "-- gpasswd -r 그룹명 : 특정 그룹의 패스워드를 제거\n",
        "-- gpasswd -R 그룹명 : 특정 그룹에 접근을 제한\n",
        "-- gpasswd -A 유저명, ... 그룹명 : 특정 그룹의 그룹관리자를 설정\n",
        "-- gpasswd -M 유저명, ... 그룹명 : 특정 그룹의 그룹멤버를 새로 설정"
      ],
      "metadata": {
        "id": "rxg8SDKCIScC"
      }
    },
    {
      "cell_type": "markdown",
      "source": [
        "# 파일/폴더 소유권 변경\n",
        "- chown root aa.txt : aa.txt 파일의 소유자를 root로 변경\n",
        "- chown :root aa.txt : aa.txt 파일의 그룹을 root로 변경\n",
        "- chown -R root:root aa : aa 디렉토리와 모든 하위 파일들의 소유자와 그룹을 root로 변경"
      ],
      "metadata": {
        "id": "CGuC9v1PAN3b"
      }
    },
    {
      "cell_type": "markdown",
      "source": [
        "# 파일/폴더 권한 변경\n",
        "- chmod ugo+rwx a.txt : a.txt 파일에 사용자, 그룹, 다른 사용자에게 읽기/쓰기/실행 권한을 부여\n",
        "- chmod ugo-rwx a.txt : a.txt 파일에 사용자, 그룹, 다른 사용자에게 읽기/쓰기/실행 권한을 삭제\n",
        "- chmod 777 a.txt : a.txt 파일에 사용자, 그룹, 다른 사용자에게 읽기/쓰기/실행 권한을 부여\n",
        "- chmod -R 777 aa : aa 디렉토리와 하위 파일들을 대상으로 사용자, 그룹, 다른 사용자에게 읽기/쓰기/실행 권한을 부여"
      ],
      "metadata": {
        "id": "pvv9hs1CLXca"
      }
    },
    {
      "cell_type": "markdown",
      "source": [
        "# history 명령어\n",
        "- !! : 바로 이전 명령어 실행\n",
        "- !ps : 특정 문자가 들어간 최근 명령어 실행\n",
        "- !64 : history 번호로 실행"
      ],
      "metadata": {
        "id": "a3MVs4PICZOc"
      }
    }
  ]
}